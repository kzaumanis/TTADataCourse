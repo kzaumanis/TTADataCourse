{
 "cells": [
  {
   "cell_type": "code",
   "execution_count": 2,
   "metadata": {},
   "outputs": [
    {
     "ename": "SyntaxError",
     "evalue": "invalid syntax (1816386964.py, line 8)",
     "output_type": "error",
     "traceback": [
      "\u001b[1;36m  Input \u001b[1;32mIn [2]\u001b[1;36m\u001b[0m\n\u001b[1;33m    Optional HLT\u001b[0m\n\u001b[1;37m             ^\u001b[0m\n\u001b[1;31mSyntaxError\u001b[0m\u001b[1;31m:\u001b[0m invalid syntax\n"
     ]
    }
   ],
   "source": [
    "#K-Means clustering\n",
    "\n",
    "#K-means clustering is an unsupervised machine learning algorithm. In K-means data objects are separated into groups/clusters which closely align with other data objects in the same group and not from other groups/clusters. A number of centroids are assigned to the data which corresponds to the amount groups or clusters the operator has chosen. The distance between the centroids and each data objects are calculated, and the data objects are assigned to the nearest centroid, the mean position of each data objects assigned to the centroid is calculated and this is used to update the centroid position and this process keeps going until the centroid position doesn’t update anymore and the centroids are in their final position. \n",
    "#This algorithm would be useful for customer segmentation to group customers into different groups to identify customers which are suited for the marketing a certain new products from a large amount of unlabelled customer data that are more likely to buy the new product.\n",
    "#This algorithm is widely used in banks to detect fraudulent transactions from previous data of their customers (i.e. purchase habits, transaction amount, purchase frequency and etc) if an anomaly purchase is detected and is not similar to past purchases verification from the customers is requested to ensure that the purchase is genuine by that customer otherwise the purchase will not go through and will be rejected by the bank, also the credit/debit card may be frozen until further notice.\n",
    "\n",
    "\n",
    "Optional HLT\n",
    "\n",
    "from ast import increment_lineno\n",
    "import pandas as pd\n",
    "import numpy as np\n",
    "import matplotlib.pyplot as plt\n",
    "#%matplotlib inline\n",
    "dataset = pd.read_csv(r\"C:\\Users\\hanad\\Desktop\\Coding\\Data Academy (Tech talent)\\student_scores.csv\")\n",
    "dataset.shape\n",
    "dataset.head()\n",
    "dataset.describe()\n",
    "dataset.plot(x='Hours', y='Scores', style='o')\n",
    "plt.title('Hours vs Percentage')\n",
    "plt.xlabel('Hours Studied')\n",
    "plt.ylabel('Percentage Score')\n",
    "plt.show()\n",
    "X = dataset.iloc[:, :-1].values\n",
    "y = dataset.iloc[:, 1].values\n",
    "from sklearn.model_selection import train_test_split\n",
    "X_train, X_test, y_train, y_test = train_test_split(X, y, test_size=0.2, random_state=0)\n",
    "from sklearn.linear_model import LinearRegression\n",
    "regressor = LinearRegression()\n",
    "regressor.fit(X_train, y_train)\n",
    "print(regressor.intercept_)\n",
    "print(regressor.coef_)\n",
    "y_pred = regressor.predict(X_test)\n",
    "df = pd.DataFrame({'Actual': y_test, 'Predicted': y_pred})\n",
    "print(df)\n",
    "from sklearn import metrics\n",
    "print('Mean Absolute Error:', metrics.mean_absolute_error(y_test, y_pred))\n",
    "print('Mean Squared Error:', metrics.mean_squared_error(y_test, y_pred))\n",
    "print('Root Mean Squared Error:', np.sqrt(metrics.mean_squared_error(y_test, y_pred)))\n"
   ]
  }
 ],
 "metadata": {
  "interpreter": {
   "hash": "94f497135b3d8c88a3ef4f9c286fe2fb1509dd0c67db1735a70373c37edeb2d6"
  },
  "kernelspec": {
   "display_name": "Python 3.10.4 64-bit (windows store)",
   "language": "python",
   "name": "python3"
  },
  "language_info": {
   "codemirror_mode": {
    "name": "ipython",
    "version": 3
   },
   "file_extension": ".py",
   "mimetype": "text/x-python",
   "name": "python",
   "nbconvert_exporter": "python",
   "pygments_lexer": "ipython3",
   "version": "3.10.4"
  },
  "orig_nbformat": 4
 },
 "nbformat": 4,
 "nbformat_minor": 2
}
