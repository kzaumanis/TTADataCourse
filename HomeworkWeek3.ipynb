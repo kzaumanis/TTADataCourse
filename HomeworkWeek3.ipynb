{
 "cells": [
  {
   "cell_type": "code",
   "execution_count": null,
   "metadata": {},
   "outputs": [],
   "source": [
    "#Task 1\n",
    "print(\"Welcome to Burgerriaaa!\")\n",
    "size = input(\"What burger do you want? beef, chicken, or lamb \").lower()\n",
    "lettuce = input(\"Do you want lettuce? Y or N \")\n",
    "cheese = input(\"Do you want cheese? Y or N \")\n",
    "bill = 0\n",
    "\n",
    "if size == \"beef\":\n",
    "    bill += 4\n",
    "    if lettuce == \"Y\":\n",
    "        bill += 1\n",
    "    elif cheese == \"Y\":\n",
    "        bill += 1\n",
    "    else:\n",
    "        bill += 0\n",
    "elif size == \"chicken\":\n",
    "    bill += 5\n",
    "    if lettuce == \"Y\":\n",
    "        bill += 1\n",
    "    elif cheese == \"Y\":\n",
    "        bill += 1\n",
    "    else:\n",
    "        bill += 0\n",
    "elif size == \"lamb\":\n",
    "    bill += 6\n",
    "    if lettuce == \"Y\":\n",
    "        bill += 1\n",
    "    elif cheese == \"Y\":\n",
    "        bill += 1\n",
    "    else:\n",
    "        bill += 0\n",
    "else:\n",
    "    print(\"Invalid option, try again\")\n",
    "    \n",
    "print(f\"your final bill £{bill}. Please take a seat over there your order will be ready in 10 minutes. Thank you!! \")"
   ]
  },
  {
   "cell_type": "code",
   "execution_count": null,
   "metadata": {},
   "outputs": [],
   "source": [
    "#Task 2\n",
    "print (\"Welcome to the depreciation calculator \")\n",
    "Bike_price = 2000\n",
    "age = int(input(\"How many years has it been since the bike was purchased? \"))\n",
    "\n",
    "def bike_loss():\n",
    "    depreciation = Bike_price - (age * 200)\n",
    "    while depreciation > 1000:\n",
    "        if depreciation > 1000:\n",
    "            depreciation -= 200\n",
    "            print(str(depreciation))\n",
    "        else:\n",
    "            print(str(depreciation))\n",
    "bike_loss()"
   ]
  },
  {
   "cell_type": "code",
   "execution_count": null,
   "metadata": {},
   "outputs": [],
   "source": [
    "#Task 3\n",
    "\n",
    "number1 = int(input(\"Pick a number? \"))\n",
    "number2 = int(input(\"Pick a second number? \"))\n",
    "operation = input(\"Select a operation (plus, minus, times or divide)? \")\n",
    "\n",
    "def operation1():\n",
    "    if operation == \"plus\":\n",
    "        print(number1 + number2)\n",
    "    elif operation == \"minus\":\n",
    "        print(number1 - number2)\n",
    "    elif operation == \"times\":\n",
    "        print(number1 * number2)\n",
    "    elif operation == \"divide\":\n",
    "        print(number1 / number2)\n",
    "    else:\n",
    "        print(\"Invalid input, please try again\")\n",
    "\n",
    "operation1()"
   ]
  }
 ],
 "metadata": {
  "language_info": {
   "name": "python"
  },
  "orig_nbformat": 4
 },
 "nbformat": 4,
 "nbformat_minor": 2
}
