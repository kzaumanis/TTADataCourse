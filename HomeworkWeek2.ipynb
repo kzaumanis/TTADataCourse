{
 "cells": [
  {
   "cell_type": "code",
   "execution_count": 79,
   "metadata": {},
   "outputs": [
    {
     "name": "stdout",
     "output_type": "stream",
     "text": [
      "Well, s. Guess a number between 1 to 2.\n",
      "What you entered wasn't even a number.\n",
      "Good job, s! You guessed the number.\n"
     ]
    }
   ],
   "source": [
    "# task 1\n",
    "import random\n",
    "myName = input(\"Hello! What is your name?\")\n",
    "# I used values 1 to 3 because it was easier to guess it so I could test it.\n",
    "number = random.randint(1, 3)\n",
    "print (\"Well,\", myName + \". Guess a number between 1 to 3.\")\n",
    "\n",
    "try:\n",
    "    guess = int(input(\"What is your guess?\"))\n",
    "except ValueError:\n",
    "    print(\"What you entered wasn't even a number.\")    \n",
    "    \n",
    "if guess == number:\n",
    "    print(\"Good job,\", myName + \"! You guessed the number.\")\n",
    "    \n",
    "# I understand that this is more than what the task asked but I was really curious as to how to fix this.\n",
    "# Essentially, how do I make \"elif\" say \"wrong number! better luck next time\" when I guessed a wrong number?\n",
    "# If I can somehow make it do that, then I could get the \"else\" function to only say \"Better luck next time\" after generating a ValueError.\n",
    "# Also, sometimes when I enter a string in the second input and it generate a ValueError, it will print \"Good job, ...! You guessed the number.\"    \n",
    "    \n",
    "elif guess < number:\n",
    "    print(\"Wrong number! Better luck next time.\")\n",
    "elif guess > number:\n",
    "    print(\"Wrong number! Better luck next time.\")\n",
    "\n",
    "else:\n",
    "    print(\"Better luck next time.\")\n",
    "    \n"
   ]
  },
  {
   "cell_type": "code",
   "execution_count": 94,
   "metadata": {},
   "outputs": [
    {
     "name": "stdout",
     "output_type": "stream",
     "text": [
      "Got no jokes for this one.\n"
     ]
    }
   ],
   "source": [
    "# task 2\n",
    "try:\n",
    "    favourite = int(input(\"Hi! Tell me your favourite number from 1 to 100 and I might know a joke about it.\")) \n",
    "# This also ins't what was asked for but I really just want to know how to stop it from going to else after a ValueError has occured.\n",
    "except ValueError:\n",
    "    print(\"That isn't even a number dawg.\")\n",
    "if favourite == 6:\n",
    "    print(\"Why is six afraid of seven? Because seven ate nine!!! LMAO\")\n",
    "elif favourite == 1:\n",
    "    print(\"That's the amount of brain cells I still have working.\")\n",
    "elif favourite == 69:\n",
    "    print(\"NICE!!!\")\n",
    "else:\n",
    "    print(\"Got no jokes for this one.\")"
   ]
  },
  {
   "cell_type": "code",
   "execution_count": 95,
   "metadata": {},
   "outputs": [
    {
     "name": "stdout",
     "output_type": "stream",
     "text": [
      "Your favourite meal is 1, 2, 3, with a glass of 4.\n"
     ]
    }
   ],
   "source": [
    "# task 3\n",
    "starter = str(input(\"What's your favourite starter?\"))\n",
    "main = str(input(\"What's your favourite main course?\"))\n",
    "dessert = str(input(\"What's your favourite dessert?\"))\n",
    "drink = str(input(\"What's your favourite drink?\"))\n",
    "print(\"Your favourite meal is\", starter + \",\", main + \",\", dessert + \", with a glass of\", drink + \".\")"
   ]
  },
  {
   "cell_type": "code",
   "execution_count": 100,
   "metadata": {},
   "outputs": [
    {
     "name": "stdout",
     "output_type": "stream",
     "text": [
      "Next year the motorbike's value will drop down to £ 2000\n",
      "Next year the motorbike's value will drop down to £ 1800.0\n",
      "Next year the motorbike's value will drop down to £ 1620.0\n",
      "Next year the motorbike's value will drop down to £ 1458.0\n",
      "Next year the motorbike's value will drop down to £ 1312.2\n",
      "Next year the motorbike's value will drop down to £ 1180.98\n",
      "Next year the motorbike's value will drop down to £ 1062.882\n"
     ]
    }
   ],
   "source": [
    "# task 4\n",
    "i = 2000\n",
    "while i >= 1000:\n",
    "    print(\"Next year the motorbike's value will drop down to £\", i)\n",
    "    i = i * 0.9"
   ]
  },
  {
   "cell_type": "code",
   "execution_count": 105,
   "metadata": {},
   "outputs": [
    {
     "name": "stdout",
     "output_type": "stream",
     "text": [
      "Something went wrong.\n"
     ]
    }
   ],
   "source": [
    "# task 5\n",
    "a1 = int(input(\"Enter your first number:\"))\n",
    "a2 = int(input(\"Enter your second number:\"))\n",
    "b1 = str(input(\"Enter A if you want to add, enter S if you want to subtract, enter M if you want to multiply, enter D if you want to devide, enter SQ if you want to multiply to the power of.\"))\n",
    "if b1 == str(\"A\"):\n",
    "    print(a1 + a2)\n",
    "if b1 == str(\"S\"):\n",
    "    print(a1 - a2)\n",
    "if b1 == str(\"M\"):\n",
    "    print(a1 * a2)\n",
    "if b1 == str(\"D\"):\n",
    "    print(a1 / a2)\n",
    "if b1 == str(\"SQ\"):\n",
    "    print(a1 ** a2)\n",
    "    \n",
    "# I kind of want to find out how to get else only to execute if the string value didn't match up without writting a long list of \"if b1 != str...\", etc. \n",
    "else:\n",
    "    print(\"Something went wrong.\")\n",
    "    "
   ]
  }
 ],
 "metadata": {
  "interpreter": {
   "hash": "94f497135b3d8c88a3ef4f9c286fe2fb1509dd0c67db1735a70373c37edeb2d6"
  },
  "kernelspec": {
   "display_name": "Python 3.10.2 64-bit (windows store)",
   "language": "python",
   "name": "python3"
  },
  "language_info": {
   "codemirror_mode": {
    "name": "ipython",
    "version": 3
   },
   "file_extension": ".py",
   "mimetype": "text/x-python",
   "name": "python",
   "nbconvert_exporter": "python",
   "pygments_lexer": "ipython3",
   "version": "3.10.2"
  },
  "orig_nbformat": 4
 },
 "nbformat": 4,
 "nbformat_minor": 2
}
