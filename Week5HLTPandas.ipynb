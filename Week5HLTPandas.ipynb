{
 "cells": [
  {
   "cell_type": "code",
   "execution_count": null,
   "metadata": {},
   "outputs": [],
   "source": [
    "pip install pandas"
   ]
  },
  {
   "cell_type": "code",
   "execution_count": 2,
   "metadata": {},
   "outputs": [],
   "source": [
    "import pandas as pd"
   ]
  },
  {
   "cell_type": "code",
   "execution_count": null,
   "metadata": {},
   "outputs": [],
   "source": [
    "#task 1 Rows and columns\n",
    "import pandas as pd\n",
    "tourist=pd.read_csv(\"Holiday.csv\")\n",
    "print(tourist)\n",
    "tourist.shape"
   ]
  },
  {
   "cell_type": "code",
   "execution_count": null,
   "metadata": {},
   "outputs": [],
   "source": [
    "# task 2print row {3,8 using loc,iloc}\n",
    "touristdata2=pd.read_csv(\"holiday.csv\",index_col=\"Destination\")\n",
    "#print(touristdata2.loc[[\"India\",\"UAE\"]])\n",
    "#print(touristdata.iloc[[4,8]])\n",
    "data = pd.read_csv(\"holiday.csv\")\n",
    "print(data.iloc[7,4])\n",
    "print(data.iloc[3:7,2:4])"
   ]
  },
  {
   "cell_type": "code",
   "execution_count": null,
   "metadata": {},
   "outputs": [],
   "source": [
    "#task 3mean number of all inclusive hotel of all destinatiom\n",
    "import pandas as pd\n",
    "data=pd.read_csv(\"holiday.csv\")\n",
    "data[\"Hotel\"].mean()\n",
    "data[\"Average\"].mean()"
   ]
  },
  {
   "cell_type": "code",
   "execution_count": null,
   "metadata": {},
   "outputs": [],
   "source": [
    "#task 4 Find the lowest scoring destination\n",
    "holiday_file=pd.read_csv(\"holiday.csv\")\n",
    "max_filter= holiday_file[\"Score\"]== holiday_file[\"Score\"].min()\n",
    "holiday_file[max_filter]"
   ]
  },
  {
   "cell_type": "code",
   "execution_count": null,
   "metadata": {},
   "outputs": [],
   "source": [
    "#task 5 Find the highest scoring destination\n",
    "holiday_file=pd.read_csv(\"holiday.csv\")\n",
    "max_filter= holiday_file[\"Score\"]== holiday_file[\"Score\"].max()\n",
    "holiday_file[max_filter]"
   ]
  },
  {
   "cell_type": "code",
   "execution_count": null,
   "metadata": {},
   "outputs": [],
   "source": [
    "# destination more than 9 All inclusive hotel\n",
    "import pandas as pd\n",
    "data = pd.read_csv(\"Holiday.csv\")\n",
    "tourist_filter=(data[\"Hotel\"]== 200)\n",
    "#tourist_filter = (data[\"Score\"] > 3) & (data[\"Hotel\"] == 120)\n",
    "filter = data[tourist_filter] \n",
    "filter.head(3)"
   ]
  },
  {
   "cell_type": "code",
   "execution_count": null,
   "metadata": {},
   "outputs": [],
   "source": [
    "#Tassk 7 Filter te data by score above 8\n",
    "tourist_filter = (data[\"Score\"] > 8)\n",
    "filter=data[tourist_filter] \n",
    "filter.head(3)"
   ]
  },
  {
   "cell_type": "code",
   "execution_count": null,
   "metadata": {},
   "outputs": [],
   "source": [
    "print(vetdata[[\"Type\", \"Pet_Age\", \"Chipped\"]])\n",
    "#print(touristdata[[\"Feeedback score\", \"Average\"]])"
   ]
  },
  {
   "cell_type": "code",
   "execution_count": null,
   "metadata": {},
   "outputs": [],
   "source": [
    "#print row {3,8 using loc,iloc}\n",
    "touristdata2=pd.read_csv(\"holiday.csv\",index_col=\"Destination\")\n",
    "#print(touristdata2.loc[[\"India\",\"UAE\"]])\n",
    "#print(touristdata.iloc[[4,8]])\n",
    "data = pd.read_csv(\"holiday.csv\")\n",
    "print(data.iloc[7,4])\n",
    "print(data.iloc[3:7,2:4])"
   ]
  },
  {
   "cell_type": "code",
   "execution_count": null,
   "metadata": {},
   "outputs": [],
   "source": [
    "#mean number of all inclusive hotel of all destinatiom\n",
    "import pandas as pd\n",
    "data=pd.read_csv(\"holiday.csv\")\n",
    "data[\"Hotel\"].mean()\n",
    "#data[\"Average\"].mean()"
   ]
  },
  {
   "cell_type": "code",
   "execution_count": null,
   "metadata": {},
   "outputs": [],
   "source": [
    "import pandas as pd\n",
    "data = pd.read_csv(\"holiday.csv\")\n",
    "myfilter = data[\"Score\"] > 5\n",
    "highscore = data[myfilter]\n",
    "highscore.head()"
   ]
  },
  {
   "cell_type": "code",
   "execution_count": null,
   "metadata": {},
   "outputs": [],
   "source": [
    "# print the no of rows and colums\n",
    "import pandas as pd\n",
    "data=pd.read_csv(\"holiday.csv\")\n",
    "data.shape\n",
    "data.tail(3)"
   ]
  },
  {
   "cell_type": "code",
   "execution_count": null,
   "metadata": {},
   "outputs": [],
   "source": [
    "import pandas as pd\n",
    "data = pd.read_csv(\"Holiday.csv\")\n",
    "highscore = data[myfilter]\n",
    "highscore.tail()"
   ]
  },
  {
   "cell_type": "code",
   "execution_count": null,
   "metadata": {},
   "outputs": [],
   "source": [
    "import pandas as pd\n",
    "data = pd.read_csv(\"Holiday.csv\")\n",
    "highscore = data[myfilter]\n",
    "highscore.head()"
   ]
  },
  {
   "cell_type": "code",
   "execution_count": null,
   "metadata": {},
   "outputs": [],
   "source": [
    "#Is there a correlation between number of all-inclusive hotels and score\n",
    "import pandas as pd\n",
    "tourist=pd.read_csv(\"Holiday.csv\")\n",
    "print(tourist)\n",
    "tourist.shape\n",
    "print(touristdata[[\"Score\",\"Hotel\"]])\n",
    "tourist.corr()\n",
    "df.plot"
   ]
  },
  {
   "cell_type": "code",
   "execution_count": null,
   "metadata": {},
   "outputs": [],
   "source": [
    "tourist_file.plot.bar(y='Score')"
   ]
  }
 ],
 "metadata": {
  "interpreter": {
   "hash": "94f497135b3d8c88a3ef4f9c286fe2fb1509dd0c67db1735a70373c37edeb2d6"
  },
  "kernelspec": {
   "display_name": "Python 3.10.4 64-bit (windows store)",
   "language": "python",
   "name": "python3"
  },
  "language_info": {
   "codemirror_mode": {
    "name": "ipython",
    "version": 3
   },
   "file_extension": ".py",
   "mimetype": "text/x-python",
   "name": "python",
   "nbconvert_exporter": "python",
   "pygments_lexer": "ipython3",
   "version": "3.10.4"
  },
  "orig_nbformat": 4
 },
 "nbformat": 4,
 "nbformat_minor": 2
}
