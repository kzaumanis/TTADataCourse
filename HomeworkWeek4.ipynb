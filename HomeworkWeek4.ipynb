{
 "cells": [
  {
   "cell_type": "code",
   "execution_count": 17,
   "metadata": {},
   "outputs": [],
   "source": [
    "#task 1\n",
    "\n",
    "i1 = int(input(\"Enter you first number:\"))\n",
    "i2 = int(input(\"Enter you second number:\"))\n",
    "i3 = int(input(\"Enter you third number:\"))\n",
    "i4 = int(input(\"Enter you fourth number:\"))\n",
    "\n",
    "#r1 = (i1, i2, i3, i4)\n",
    "\n",
    "task_1 = open(\"Numbers.txt\", \"w\")\n",
    "\n",
    "task_1.write(str(i1))\n",
    "task_1.write(\"\\n\")\n",
    "task_1.write(str(i2))\n",
    "task_1.write(\"\\n\")\n",
    "task_1.write(str(i3))\n",
    "task_1.write(\"\\n\")\n",
    "task_1.write(str(i4))\n",
    "\n",
    "task_1.close()\n",
    "\n"
   ]
  },
  {
   "cell_type": "code",
   "execution_count": 21,
   "metadata": {},
   "outputs": [
    {
     "name": "stdout",
     "output_type": "stream",
     "text": [
      "Your grade is a fail\n"
     ]
    }
   ],
   "source": [
    "#task 2\n",
    "g1 = int(input(\"Enter your percentage mark:\"))\n",
    "\n",
    "if g1 >= 70:\n",
    "    print(\"Your grade is a 1st\")\n",
    "    \n",
    "elif g1 >= 60:\n",
    "    print(\"Your grade is a 2:1\")\n",
    "\n",
    "elif g1 >= 50:\n",
    "    print(\"Your grade is a 2:2\")\n",
    "    \n",
    "elif g1 >= 40:\n",
    "    print(\"Your grade is a 3rd\")\n",
    "    \n",
    "else:\n",
    "    print(\"Your grade is a fail\")\n",
    "    \n",
    "# I am really confused about the extension to task 2...\n",
    "# In the first line it's said to use both grade and mark, but later said the strings should be grade and grade compared\n",
    "# Also, at this point I am not sure if we're even going by UK's University grading standards or just grades 1-10???"
   ]
  },
  {
   "cell_type": "code",
   "execution_count": 22,
   "metadata": {},
   "outputs": [],
   "source": [
    "import numpy as np"
   ]
  },
  {
   "cell_type": "code",
   "execution_count": 59,
   "metadata": {},
   "outputs": [
    {
     "name": "stdout",
     "output_type": "stream",
     "text": [
      "[0 1 2 3 4 5 6 7 8 9]\n"
     ]
    }
   ],
   "source": [
    "#task np 1\n",
    "array = np.arange(0,10)\n",
    "\n",
    "print(array)"
   ]
  },
  {
   "cell_type": "code",
   "execution_count": 81,
   "metadata": {},
   "outputs": [
    {
     "name": "stdout",
     "output_type": "stream",
     "text": [
      "[[ True  True  True]\n",
      " [ True  True  True]\n",
      " [ True  True  True]]\n"
     ]
    }
   ],
   "source": [
    "#2\n",
    "wow = np.array([1, 1, 1, 1, 1, 1, 1, 1, 1], dtype=bool)\n",
    "\n",
    "newwow = wow.reshape(3, 3)\n",
    "\n",
    "print(newwow)"
   ]
  },
  {
   "cell_type": "code",
   "execution_count": 89,
   "metadata": {},
   "outputs": [
    {
     "name": "stdout",
     "output_type": "stream",
     "text": [
      "[1 3 5 7 9]\n"
     ]
    }
   ],
   "source": [
    "#3\n",
    "woof = np.arange(1,10,2)\n",
    "\n",
    "print(woof)"
   ]
  },
  {
   "cell_type": "code",
   "execution_count": 91,
   "metadata": {},
   "outputs": [
    {
     "name": "stdout",
     "output_type": "stream",
     "text": [
      "[-1  2 -1  4 -1  6 -1  8 -1]\n"
     ]
    }
   ],
   "source": [
    "#4 (I found this online but have no idea how it works)\n",
    "q = np.arange(1,10) \n",
    "\n",
    "#q = np.array([ 1,  2,  3,  4,  5,  6,  7,  8,  9, 10]) \n",
    " \n",
    "odd_values = (q%2 == 1)\n",
    " \n",
    "q[odd_values] = -1 \n",
    "\n",
    "print(q)"
   ]
  },
  {
   "cell_type": "code",
   "execution_count": 94,
   "metadata": {},
   "outputs": [
    {
     "name": "stdout",
     "output_type": "stream",
     "text": [
      "[[1 2 3 4]\n",
      " [5 6 7 8]]\n"
     ]
    }
   ],
   "source": [
    "#5\n",
    "y = np.arange(1,9)\n",
    "\n",
    "newy = y.reshape(2, 4)\n",
    "\n",
    "print(newy)"
   ]
  },
  {
   "cell_type": "code",
   "execution_count": 106,
   "metadata": {},
   "outputs": [
    {
     "ename": "ValueError",
     "evalue": "shapes (9,1) and (9,1) not aligned: 1 (dim 1) != 9 (dim 0)",
     "output_type": "error",
     "traceback": [
      "\u001b[1;31m---------------------------------------------------------------------------\u001b[0m",
      "\u001b[1;31mValueError\u001b[0m                                Traceback (most recent call last)",
      "\u001b[1;32mc:\\Users\\kzaum\\Documents\\TTA\\Week4\\HomeworkWeek4.ipynb Cell 9'\u001b[0m in \u001b[0;36m<cell line: 4>\u001b[1;34m()\u001b[0m\n\u001b[0;32m      <a href='vscode-notebook-cell:/c%3A/Users/kzaum/Documents/TTA/Week4/HomeworkWeek4.ipynb#ch0000008?line=1'>2</a>\u001b[0m al \u001b[39m=\u001b[39m np\u001b[39m.\u001b[39marange(\u001b[39m1\u001b[39m,\u001b[39m10\u001b[39m)\u001b[39m.\u001b[39mreshape(\u001b[39m9\u001b[39m, \u001b[39m1\u001b[39m)\n\u001b[0;32m      <a href='vscode-notebook-cell:/c%3A/Users/kzaum/Documents/TTA/Week4/HomeworkWeek4.ipynb#ch0000008?line=2'>3</a>\u001b[0m bl \u001b[39m=\u001b[39m np\u001b[39m.\u001b[39marange(\u001b[39m1\u001b[39m,\u001b[39m10\u001b[39m)\u001b[39m.\u001b[39mreshape(\u001b[39m9\u001b[39m, \u001b[39m1\u001b[39m)\n\u001b[1;32m----> <a href='vscode-notebook-cell:/c%3A/Users/kzaum/Documents/TTA/Week4/HomeworkWeek4.ipynb#ch0000008?line=3'>4</a>\u001b[0m cl \u001b[39m=\u001b[39m np\u001b[39m.\u001b[39;49mdot(a, b)\n\u001b[0;32m      <a href='vscode-notebook-cell:/c%3A/Users/kzaum/Documents/TTA/Week4/HomeworkWeek4.ipynb#ch0000008?line=5'>6</a>\u001b[0m \u001b[39mprint\u001b[39m(al)\n\u001b[0;32m      <a href='vscode-notebook-cell:/c%3A/Users/kzaum/Documents/TTA/Week4/HomeworkWeek4.ipynb#ch0000008?line=6'>7</a>\u001b[0m \u001b[39mprint\u001b[39m(bl)\n",
      "File \u001b[1;32m<__array_function__ internals>:180\u001b[0m, in \u001b[0;36mdot\u001b[1;34m(*args, **kwargs)\u001b[0m\n",
      "\u001b[1;31mValueError\u001b[0m: shapes (9,1) and (9,1) not aligned: 1 (dim 1) != 9 (dim 0)"
     ]
    }
   ],
   "source": [
    "#6 ???\n",
    "al = np.arange(1,10).reshape(9, 1)\n",
    "bl = np.arange(1,10).reshape(9, 1)\n",
    "cl = np.dot(a, b)\n",
    "\n",
    "print(al)\n",
    "print(bl)\n",
    "print(cl)\n",
    "\n",
    "total_sum = np.sum(c)\n",
    "print(total_sum)"
   ]
  }
 ],
 "metadata": {
  "interpreter": {
   "hash": "94f497135b3d8c88a3ef4f9c286fe2fb1509dd0c67db1735a70373c37edeb2d6"
  },
  "kernelspec": {
   "display_name": "Python 3.10.4 64-bit (windows store)",
   "language": "python",
   "name": "python3"
  },
  "language_info": {
   "codemirror_mode": {
    "name": "ipython",
    "version": 3
   },
   "file_extension": ".py",
   "mimetype": "text/x-python",
   "name": "python",
   "nbconvert_exporter": "python",
   "pygments_lexer": "ipython3",
   "version": "3.10.4"
  },
  "orig_nbformat": 4
 },
 "nbformat": 4,
 "nbformat_minor": 2
}
