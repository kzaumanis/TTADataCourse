{
 "cells": [
  {
   "cell_type": "code",
   "execution_count": null,
   "metadata": {},
   "outputs": [],
   "source": [
    "#task 1\n",
    "\n",
    "i1 = int(input(\"Enter you first number:\"))\n",
    "i2 = int(input(\"Enter you second number:\"))\n",
    "i3 = int(input(\"Enter you third number:\"))\n",
    "i4 = int(input(\"Enter you fourth number:\"))\n",
    "\n",
    "#r1 = (i1, i2, i3, i4)\n",
    "\n",
    "task_1 = open(\"Numbers.txt\", \"w\")\n",
    "\n",
    "task_1.write(str(i1))\n",
    "task_1.write(\"\\n\")\n",
    "task_1.write(str(i2))\n",
    "task_1.write(\"\\n\")\n",
    "task_1.write(str(i3))\n",
    "task_1.write(\"\\n\")\n",
    "task_1.write(str(i4))\n",
    "\n",
    "task_1.close()\n",
    "\n"
   ]
  },
  {
   "cell_type": "code",
   "execution_count": null,
   "metadata": {},
   "outputs": [],
   "source": [
    "#task 2\n",
    "g1 = int(input(\"Enter your percentage mark:\"))\n",
    "\n",
    "if g1 >= 70:\n",
    "    print(\"Your grade is a 1st\")\n",
    "    \n",
    "elif g1 >= 60:\n",
    "    print(\"Your grade is a 2:1\")\n",
    "\n",
    "elif g1 >= 50:\n",
    "    print(\"Your grade is a 2:2\")\n",
    "    \n",
    "elif g1 >= 40:\n",
    "    print(\"Your grade is a 3rd\")\n",
    "    \n",
    "else:\n",
    "    print(\"Your grade is a fail\")\n",
    "    \n",
    "# I am really confused about the extension to task 2...\n",
    "# In the first line it's said to use both grade and mark, but later said the strings should be grade and grade compared\n",
    "# Also, at this point I am not sure if we're even going by UK's University grading standards or just grades 1-10???"
   ]
  },
  {
   "cell_type": "code",
   "execution_count": null,
   "metadata": {},
   "outputs": [],
   "source": [
    "import numpy as np"
   ]
  },
  {
   "cell_type": "code",
   "execution_count": null,
   "metadata": {},
   "outputs": [],
   "source": [
    "#task np 1\n",
    "array = np.arange(0,10)\n",
    "\n",
    "print(array)"
   ]
  },
  {
   "cell_type": "code",
   "execution_count": null,
   "metadata": {},
   "outputs": [],
   "source": [
    "#2\n",
    "wow = np.array([1, 1, 1, 1, 1, 1, 1, 1, 1], dtype=bool)\n",
    "\n",
    "newwow = wow.reshape(3, 3)\n",
    "\n",
    "print(newwow)"
   ]
  },
  {
   "cell_type": "code",
   "execution_count": null,
   "metadata": {},
   "outputs": [],
   "source": [
    "#3\n",
    "woof = np.arange(1,10,2)\n",
    "\n",
    "print(woof)"
   ]
  },
  {
   "cell_type": "code",
   "execution_count": null,
   "metadata": {},
   "outputs": [],
   "source": [
    "#4\n",
    "q = np.arange(1,10) \n",
    "\n",
    "#q = np.array([ 1,  2,  3,  4,  5,  6,  7,  8,  9, 10]) \n",
    " \n",
    "odd_values = (q%2 == 1)\n",
    " \n",
    "q[odd_values] = -1 \n",
    "\n",
    "print(q)"
   ]
  },
  {
   "cell_type": "code",
   "execution_count": null,
   "metadata": {},
   "outputs": [],
   "source": [
    "#5\n",
    "y = np.arange(1,9)\n",
    "\n",
    "newy = y.reshape(2, 4)\n",
    "\n",
    "print(newy)"
   ]
  },
  {
   "cell_type": "code",
   "execution_count": null,
   "metadata": {},
   "outputs": [],
   "source": [
    "#6\n",
    "al = np.arange(1,10).reshape(9, 1)\n",
    "bl = np.arange(1,10).reshape(9, 1)\n",
    "cl = np.dot(a, b)\n",
    "\n",
    "print(al)\n",
    "print(bl)\n",
    "print(cl)\n",
    "\n",
    "total_sum = np.sum(c)\n",
    "print(total_sum)"
   ]
  }
 ],
 "metadata": {
  "interpreter": {
   "hash": "94f497135b3d8c88a3ef4f9c286fe2fb1509dd0c67db1735a70373c37edeb2d6"
  },
  "kernelspec": {
   "display_name": "Python 3.10.4 64-bit (windows store)",
   "language": "python",
   "name": "python3"
  },
  "language_info": {
   "codemirror_mode": {
    "name": "ipython",
    "version": 3
   },
   "file_extension": ".py",
   "mimetype": "text/x-python",
   "name": "python",
   "nbconvert_exporter": "python",
   "pygments_lexer": "ipython3",
   "version": "3.10.4"
  },
  "orig_nbformat": 4
 },
 "nbformat": 4,
 "nbformat_minor": 2
}
